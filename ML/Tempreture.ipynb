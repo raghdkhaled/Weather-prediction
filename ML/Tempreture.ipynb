{
 "cells": [
  {
   "cell_type": "code",
   "execution_count": 1,
   "metadata": {},
   "outputs": [],
   "source": [
    "import numpy as np\n",
    "import pandas as pd\n",
    "import matplotlib.pyplot as plt\n",
    "import seaborn as sns"
   ]
  },
  {
   "cell_type": "code",
   "execution_count": 2,
   "metadata": {},
   "outputs": [
    {
     "data": {
      "text/html": [
       "<div>\n",
       "<style scoped>\n",
       "    .dataframe tbody tr th:only-of-type {\n",
       "        vertical-align: middle;\n",
       "    }\n",
       "\n",
       "    .dataframe tbody tr th {\n",
       "        vertical-align: top;\n",
       "    }\n",
       "\n",
       "    .dataframe thead th {\n",
       "        text-align: right;\n",
       "    }\n",
       "</style>\n",
       "<table border=\"1\" class=\"dataframe\">\n",
       "  <thead>\n",
       "    <tr style=\"text-align: right;\">\n",
       "      <th></th>\n",
       "      <th>station</th>\n",
       "      <th>Date</th>\n",
       "      <th>Present_Tmax</th>\n",
       "      <th>Present_Tmin</th>\n",
       "      <th>LDAPS_RHmin</th>\n",
       "      <th>LDAPS_RHmax</th>\n",
       "      <th>LDAPS_Tmax_lapse</th>\n",
       "      <th>LDAPS_Tmin_lapse</th>\n",
       "      <th>LDAPS_WS</th>\n",
       "      <th>LDAPS_LH</th>\n",
       "      <th>...</th>\n",
       "      <th>LDAPS_PPT2</th>\n",
       "      <th>LDAPS_PPT3</th>\n",
       "      <th>LDAPS_PPT4</th>\n",
       "      <th>lat</th>\n",
       "      <th>lon</th>\n",
       "      <th>DEM</th>\n",
       "      <th>Slope</th>\n",
       "      <th>Solar radiation</th>\n",
       "      <th>Next_Tmax</th>\n",
       "      <th>Next_Tmin</th>\n",
       "    </tr>\n",
       "  </thead>\n",
       "  <tbody>\n",
       "    <tr>\n",
       "      <th>0</th>\n",
       "      <td>1.0</td>\n",
       "      <td>30-06-2013</td>\n",
       "      <td>28.7</td>\n",
       "      <td>21.4</td>\n",
       "      <td>58.255688</td>\n",
       "      <td>91.116364</td>\n",
       "      <td>28.074101</td>\n",
       "      <td>23.006936</td>\n",
       "      <td>6.818887</td>\n",
       "      <td>69.451805</td>\n",
       "      <td>...</td>\n",
       "      <td>0.000000</td>\n",
       "      <td>0.000000</td>\n",
       "      <td>0.000000</td>\n",
       "      <td>37.6046</td>\n",
       "      <td>126.991</td>\n",
       "      <td>212.3350</td>\n",
       "      <td>2.785000</td>\n",
       "      <td>5992.895996</td>\n",
       "      <td>29.1</td>\n",
       "      <td>21.2</td>\n",
       "    </tr>\n",
       "    <tr>\n",
       "      <th>1</th>\n",
       "      <td>2.0</td>\n",
       "      <td>30-06-2013</td>\n",
       "      <td>31.9</td>\n",
       "      <td>21.6</td>\n",
       "      <td>52.263397</td>\n",
       "      <td>90.604721</td>\n",
       "      <td>29.850689</td>\n",
       "      <td>24.035009</td>\n",
       "      <td>5.691890</td>\n",
       "      <td>51.937448</td>\n",
       "      <td>...</td>\n",
       "      <td>0.000000</td>\n",
       "      <td>0.000000</td>\n",
       "      <td>0.000000</td>\n",
       "      <td>37.6046</td>\n",
       "      <td>127.032</td>\n",
       "      <td>44.7624</td>\n",
       "      <td>0.514100</td>\n",
       "      <td>5869.312500</td>\n",
       "      <td>30.5</td>\n",
       "      <td>22.5</td>\n",
       "    </tr>\n",
       "    <tr>\n",
       "      <th>2</th>\n",
       "      <td>3.0</td>\n",
       "      <td>30-06-2013</td>\n",
       "      <td>31.6</td>\n",
       "      <td>23.3</td>\n",
       "      <td>48.690479</td>\n",
       "      <td>83.973587</td>\n",
       "      <td>30.091292</td>\n",
       "      <td>24.565633</td>\n",
       "      <td>6.138224</td>\n",
       "      <td>20.573050</td>\n",
       "      <td>...</td>\n",
       "      <td>0.000000</td>\n",
       "      <td>0.000000</td>\n",
       "      <td>0.000000</td>\n",
       "      <td>37.5776</td>\n",
       "      <td>127.058</td>\n",
       "      <td>33.3068</td>\n",
       "      <td>0.266100</td>\n",
       "      <td>5863.555664</td>\n",
       "      <td>31.1</td>\n",
       "      <td>23.9</td>\n",
       "    </tr>\n",
       "    <tr>\n",
       "      <th>3</th>\n",
       "      <td>4.0</td>\n",
       "      <td>30-06-2013</td>\n",
       "      <td>32.0</td>\n",
       "      <td>23.4</td>\n",
       "      <td>58.239788</td>\n",
       "      <td>96.483688</td>\n",
       "      <td>29.704629</td>\n",
       "      <td>23.326177</td>\n",
       "      <td>5.650050</td>\n",
       "      <td>65.727144</td>\n",
       "      <td>...</td>\n",
       "      <td>0.000000</td>\n",
       "      <td>0.000000</td>\n",
       "      <td>0.000000</td>\n",
       "      <td>37.6450</td>\n",
       "      <td>127.022</td>\n",
       "      <td>45.7160</td>\n",
       "      <td>2.534800</td>\n",
       "      <td>5856.964844</td>\n",
       "      <td>31.7</td>\n",
       "      <td>24.3</td>\n",
       "    </tr>\n",
       "    <tr>\n",
       "      <th>4</th>\n",
       "      <td>5.0</td>\n",
       "      <td>30-06-2013</td>\n",
       "      <td>31.4</td>\n",
       "      <td>21.9</td>\n",
       "      <td>56.174095</td>\n",
       "      <td>90.155128</td>\n",
       "      <td>29.113934</td>\n",
       "      <td>23.486480</td>\n",
       "      <td>5.735004</td>\n",
       "      <td>107.965535</td>\n",
       "      <td>...</td>\n",
       "      <td>0.000000</td>\n",
       "      <td>0.000000</td>\n",
       "      <td>0.000000</td>\n",
       "      <td>37.5507</td>\n",
       "      <td>127.135</td>\n",
       "      <td>35.0380</td>\n",
       "      <td>0.505500</td>\n",
       "      <td>5859.552246</td>\n",
       "      <td>31.2</td>\n",
       "      <td>22.5</td>\n",
       "    </tr>\n",
       "    <tr>\n",
       "      <th>...</th>\n",
       "      <td>...</td>\n",
       "      <td>...</td>\n",
       "      <td>...</td>\n",
       "      <td>...</td>\n",
       "      <td>...</td>\n",
       "      <td>...</td>\n",
       "      <td>...</td>\n",
       "      <td>...</td>\n",
       "      <td>...</td>\n",
       "      <td>...</td>\n",
       "      <td>...</td>\n",
       "      <td>...</td>\n",
       "      <td>...</td>\n",
       "      <td>...</td>\n",
       "      <td>...</td>\n",
       "      <td>...</td>\n",
       "      <td>...</td>\n",
       "      <td>...</td>\n",
       "      <td>...</td>\n",
       "      <td>...</td>\n",
       "      <td>...</td>\n",
       "    </tr>\n",
       "    <tr>\n",
       "      <th>7747</th>\n",
       "      <td>23.0</td>\n",
       "      <td>30-08-2017</td>\n",
       "      <td>23.3</td>\n",
       "      <td>17.1</td>\n",
       "      <td>26.741310</td>\n",
       "      <td>78.869858</td>\n",
       "      <td>26.352081</td>\n",
       "      <td>18.775678</td>\n",
       "      <td>6.148918</td>\n",
       "      <td>72.058294</td>\n",
       "      <td>...</td>\n",
       "      <td>0.000000</td>\n",
       "      <td>0.000000</td>\n",
       "      <td>0.000000</td>\n",
       "      <td>37.5372</td>\n",
       "      <td>126.891</td>\n",
       "      <td>15.5876</td>\n",
       "      <td>0.155400</td>\n",
       "      <td>4443.313965</td>\n",
       "      <td>28.3</td>\n",
       "      <td>18.1</td>\n",
       "    </tr>\n",
       "    <tr>\n",
       "      <th>7748</th>\n",
       "      <td>24.0</td>\n",
       "      <td>30-08-2017</td>\n",
       "      <td>23.3</td>\n",
       "      <td>17.7</td>\n",
       "      <td>24.040634</td>\n",
       "      <td>77.294975</td>\n",
       "      <td>27.010193</td>\n",
       "      <td>18.733519</td>\n",
       "      <td>6.542819</td>\n",
       "      <td>47.241457</td>\n",
       "      <td>...</td>\n",
       "      <td>0.000000</td>\n",
       "      <td>0.000000</td>\n",
       "      <td>0.000000</td>\n",
       "      <td>37.5237</td>\n",
       "      <td>126.909</td>\n",
       "      <td>17.2956</td>\n",
       "      <td>0.222300</td>\n",
       "      <td>4438.373535</td>\n",
       "      <td>28.6</td>\n",
       "      <td>18.8</td>\n",
       "    </tr>\n",
       "    <tr>\n",
       "      <th>7749</th>\n",
       "      <td>25.0</td>\n",
       "      <td>30-08-2017</td>\n",
       "      <td>23.2</td>\n",
       "      <td>17.4</td>\n",
       "      <td>22.933014</td>\n",
       "      <td>77.243744</td>\n",
       "      <td>27.939516</td>\n",
       "      <td>18.522965</td>\n",
       "      <td>7.289264</td>\n",
       "      <td>9.090034</td>\n",
       "      <td>...</td>\n",
       "      <td>0.000000</td>\n",
       "      <td>0.000000</td>\n",
       "      <td>0.000000</td>\n",
       "      <td>37.5237</td>\n",
       "      <td>126.970</td>\n",
       "      <td>19.5844</td>\n",
       "      <td>0.271300</td>\n",
       "      <td>4451.345215</td>\n",
       "      <td>27.8</td>\n",
       "      <td>17.4</td>\n",
       "    </tr>\n",
       "    <tr>\n",
       "      <th>7750</th>\n",
       "      <td>NaN</td>\n",
       "      <td>NaN</td>\n",
       "      <td>20.0</td>\n",
       "      <td>11.3</td>\n",
       "      <td>19.794666</td>\n",
       "      <td>58.936283</td>\n",
       "      <td>17.624954</td>\n",
       "      <td>14.272646</td>\n",
       "      <td>2.882580</td>\n",
       "      <td>-13.603212</td>\n",
       "      <td>...</td>\n",
       "      <td>0.000000</td>\n",
       "      <td>0.000000</td>\n",
       "      <td>0.000000</td>\n",
       "      <td>37.4562</td>\n",
       "      <td>126.826</td>\n",
       "      <td>12.3700</td>\n",
       "      <td>0.098475</td>\n",
       "      <td>4329.520508</td>\n",
       "      <td>17.4</td>\n",
       "      <td>11.3</td>\n",
       "    </tr>\n",
       "    <tr>\n",
       "      <th>7751</th>\n",
       "      <td>NaN</td>\n",
       "      <td>NaN</td>\n",
       "      <td>37.6</td>\n",
       "      <td>29.9</td>\n",
       "      <td>98.524734</td>\n",
       "      <td>100.000153</td>\n",
       "      <td>38.542255</td>\n",
       "      <td>29.619342</td>\n",
       "      <td>21.857621</td>\n",
       "      <td>213.414006</td>\n",
       "      <td>...</td>\n",
       "      <td>21.621661</td>\n",
       "      <td>15.841235</td>\n",
       "      <td>16.655469</td>\n",
       "      <td>37.6450</td>\n",
       "      <td>127.135</td>\n",
       "      <td>212.3350</td>\n",
       "      <td>5.178230</td>\n",
       "      <td>5992.895996</td>\n",
       "      <td>38.9</td>\n",
       "      <td>29.8</td>\n",
       "    </tr>\n",
       "  </tbody>\n",
       "</table>\n",
       "<p>7752 rows × 25 columns</p>\n",
       "</div>"
      ],
      "text/plain": [
       "      station        Date  Present_Tmax  Present_Tmin  LDAPS_RHmin  \\\n",
       "0         1.0  30-06-2013          28.7          21.4    58.255688   \n",
       "1         2.0  30-06-2013          31.9          21.6    52.263397   \n",
       "2         3.0  30-06-2013          31.6          23.3    48.690479   \n",
       "3         4.0  30-06-2013          32.0          23.4    58.239788   \n",
       "4         5.0  30-06-2013          31.4          21.9    56.174095   \n",
       "...       ...         ...           ...           ...          ...   \n",
       "7747     23.0  30-08-2017          23.3          17.1    26.741310   \n",
       "7748     24.0  30-08-2017          23.3          17.7    24.040634   \n",
       "7749     25.0  30-08-2017          23.2          17.4    22.933014   \n",
       "7750      NaN         NaN          20.0          11.3    19.794666   \n",
       "7751      NaN         NaN          37.6          29.9    98.524734   \n",
       "\n",
       "      LDAPS_RHmax  LDAPS_Tmax_lapse  LDAPS_Tmin_lapse   LDAPS_WS    LDAPS_LH  \\\n",
       "0       91.116364         28.074101         23.006936   6.818887   69.451805   \n",
       "1       90.604721         29.850689         24.035009   5.691890   51.937448   \n",
       "2       83.973587         30.091292         24.565633   6.138224   20.573050   \n",
       "3       96.483688         29.704629         23.326177   5.650050   65.727144   \n",
       "4       90.155128         29.113934         23.486480   5.735004  107.965535   \n",
       "...           ...               ...               ...        ...         ...   \n",
       "7747    78.869858         26.352081         18.775678   6.148918   72.058294   \n",
       "7748    77.294975         27.010193         18.733519   6.542819   47.241457   \n",
       "7749    77.243744         27.939516         18.522965   7.289264    9.090034   \n",
       "7750    58.936283         17.624954         14.272646   2.882580  -13.603212   \n",
       "7751   100.000153         38.542255         29.619342  21.857621  213.414006   \n",
       "\n",
       "      ...  LDAPS_PPT2  LDAPS_PPT3  LDAPS_PPT4      lat      lon       DEM  \\\n",
       "0     ...    0.000000    0.000000    0.000000  37.6046  126.991  212.3350   \n",
       "1     ...    0.000000    0.000000    0.000000  37.6046  127.032   44.7624   \n",
       "2     ...    0.000000    0.000000    0.000000  37.5776  127.058   33.3068   \n",
       "3     ...    0.000000    0.000000    0.000000  37.6450  127.022   45.7160   \n",
       "4     ...    0.000000    0.000000    0.000000  37.5507  127.135   35.0380   \n",
       "...   ...         ...         ...         ...      ...      ...       ...   \n",
       "7747  ...    0.000000    0.000000    0.000000  37.5372  126.891   15.5876   \n",
       "7748  ...    0.000000    0.000000    0.000000  37.5237  126.909   17.2956   \n",
       "7749  ...    0.000000    0.000000    0.000000  37.5237  126.970   19.5844   \n",
       "7750  ...    0.000000    0.000000    0.000000  37.4562  126.826   12.3700   \n",
       "7751  ...   21.621661   15.841235   16.655469  37.6450  127.135  212.3350   \n",
       "\n",
       "         Slope  Solar radiation  Next_Tmax  Next_Tmin  \n",
       "0     2.785000      5992.895996       29.1       21.2  \n",
       "1     0.514100      5869.312500       30.5       22.5  \n",
       "2     0.266100      5863.555664       31.1       23.9  \n",
       "3     2.534800      5856.964844       31.7       24.3  \n",
       "4     0.505500      5859.552246       31.2       22.5  \n",
       "...        ...              ...        ...        ...  \n",
       "7747  0.155400      4443.313965       28.3       18.1  \n",
       "7748  0.222300      4438.373535       28.6       18.8  \n",
       "7749  0.271300      4451.345215       27.8       17.4  \n",
       "7750  0.098475      4329.520508       17.4       11.3  \n",
       "7751  5.178230      5992.895996       38.9       29.8  \n",
       "\n",
       "[7752 rows x 25 columns]"
      ]
     },
     "execution_count": 2,
     "metadata": {},
     "output_type": "execute_result"
    }
   ],
   "source": [
    "df=pd.read_csv('temp.csv')\n",
    "df"
   ]
  },
  {
   "cell_type": "markdown",
   "metadata": {},
   "source": [
    "<h1>Pre_Processing</h1>"
   ]
  },
  {
   "cell_type": "code",
   "execution_count": 3,
   "metadata": {},
   "outputs": [
    {
     "name": "stdout",
     "output_type": "stream",
     "text": [
      "<class 'pandas.core.frame.DataFrame'>\n",
      "RangeIndex: 7752 entries, 0 to 7751\n",
      "Data columns (total 25 columns):\n",
      " #   Column            Non-Null Count  Dtype  \n",
      "---  ------            --------------  -----  \n",
      " 0   station           7750 non-null   float64\n",
      " 1   Date              7750 non-null   object \n",
      " 2   Present_Tmax      7682 non-null   float64\n",
      " 3   Present_Tmin      7682 non-null   float64\n",
      " 4   LDAPS_RHmin       7677 non-null   float64\n",
      " 5   LDAPS_RHmax       7677 non-null   float64\n",
      " 6   LDAPS_Tmax_lapse  7677 non-null   float64\n",
      " 7   LDAPS_Tmin_lapse  7677 non-null   float64\n",
      " 8   LDAPS_WS          7677 non-null   float64\n",
      " 9   LDAPS_LH          7677 non-null   float64\n",
      " 10  LDAPS_CC1         7677 non-null   float64\n",
      " 11  LDAPS_CC2         7677 non-null   float64\n",
      " 12  LDAPS_CC3         7677 non-null   float64\n",
      " 13  LDAPS_CC4         7677 non-null   float64\n",
      " 14  LDAPS_PPT1        7677 non-null   float64\n",
      " 15  LDAPS_PPT2        7677 non-null   float64\n",
      " 16  LDAPS_PPT3        7677 non-null   float64\n",
      " 17  LDAPS_PPT4        7677 non-null   float64\n",
      " 18  lat               7752 non-null   float64\n",
      " 19  lon               7752 non-null   float64\n",
      " 20  DEM               7752 non-null   float64\n",
      " 21  Slope             7752 non-null   float64\n",
      " 22  Solar radiation   7752 non-null   float64\n",
      " 23  Next_Tmax         7725 non-null   float64\n",
      " 24  Next_Tmin         7725 non-null   float64\n",
      "dtypes: float64(24), object(1)\n",
      "memory usage: 1.5+ MB\n"
     ]
    }
   ],
   "source": [
    "df.info()"
   ]
  },
  {
   "cell_type": "code",
   "execution_count": 4,
   "metadata": {},
   "outputs": [
    {
     "data": {
      "text/plain": [
       "station              2\n",
       "Date                 2\n",
       "Present_Tmax        70\n",
       "Present_Tmin        70\n",
       "LDAPS_RHmin         75\n",
       "LDAPS_RHmax         75\n",
       "LDAPS_Tmax_lapse    75\n",
       "LDAPS_Tmin_lapse    75\n",
       "LDAPS_WS            75\n",
       "LDAPS_LH            75\n",
       "LDAPS_CC1           75\n",
       "LDAPS_CC2           75\n",
       "LDAPS_CC3           75\n",
       "LDAPS_CC4           75\n",
       "LDAPS_PPT1          75\n",
       "LDAPS_PPT2          75\n",
       "LDAPS_PPT3          75\n",
       "LDAPS_PPT4          75\n",
       "lat                  0\n",
       "lon                  0\n",
       "DEM                  0\n",
       "Slope                0\n",
       "Solar radiation      0\n",
       "Next_Tmax           27\n",
       "Next_Tmin           27\n",
       "dtype: int64"
      ]
     },
     "execution_count": 4,
     "metadata": {},
     "output_type": "execute_result"
    }
   ],
   "source": [
    "df.isnull().sum()"
   ]
  },
  {
   "cell_type": "code",
   "execution_count": 5,
   "metadata": {},
   "outputs": [
    {
     "data": {
      "text/html": [
       "<div>\n",
       "<style scoped>\n",
       "    .dataframe tbody tr th:only-of-type {\n",
       "        vertical-align: middle;\n",
       "    }\n",
       "\n",
       "    .dataframe tbody tr th {\n",
       "        vertical-align: top;\n",
       "    }\n",
       "\n",
       "    .dataframe thead th {\n",
       "        text-align: right;\n",
       "    }\n",
       "</style>\n",
       "<table border=\"1\" class=\"dataframe\">\n",
       "  <thead>\n",
       "    <tr style=\"text-align: right;\">\n",
       "      <th></th>\n",
       "      <th>station</th>\n",
       "      <th>Date</th>\n",
       "      <th>Present_Tmax</th>\n",
       "      <th>Present_Tmin</th>\n",
       "      <th>LDAPS_RHmin</th>\n",
       "      <th>LDAPS_RHmax</th>\n",
       "      <th>LDAPS_Tmax_lapse</th>\n",
       "      <th>LDAPS_Tmin_lapse</th>\n",
       "      <th>LDAPS_WS</th>\n",
       "      <th>LDAPS_LH</th>\n",
       "      <th>...</th>\n",
       "      <th>LDAPS_PPT2</th>\n",
       "      <th>LDAPS_PPT3</th>\n",
       "      <th>LDAPS_PPT4</th>\n",
       "      <th>lat</th>\n",
       "      <th>lon</th>\n",
       "      <th>DEM</th>\n",
       "      <th>Slope</th>\n",
       "      <th>Solar radiation</th>\n",
       "      <th>Next_Tmax</th>\n",
       "      <th>Next_Tmin</th>\n",
       "    </tr>\n",
       "  </thead>\n",
       "  <tbody>\n",
       "    <tr>\n",
       "      <th>7750</th>\n",
       "      <td>NaN</td>\n",
       "      <td>NaN</td>\n",
       "      <td>20.0</td>\n",
       "      <td>11.3</td>\n",
       "      <td>19.794666</td>\n",
       "      <td>58.936283</td>\n",
       "      <td>17.624954</td>\n",
       "      <td>14.272646</td>\n",
       "      <td>2.882580</td>\n",
       "      <td>-13.603212</td>\n",
       "      <td>...</td>\n",
       "      <td>0.000000</td>\n",
       "      <td>0.000000</td>\n",
       "      <td>0.000000</td>\n",
       "      <td>37.4562</td>\n",
       "      <td>126.826</td>\n",
       "      <td>12.370</td>\n",
       "      <td>0.098475</td>\n",
       "      <td>4329.520508</td>\n",
       "      <td>17.4</td>\n",
       "      <td>11.3</td>\n",
       "    </tr>\n",
       "    <tr>\n",
       "      <th>7751</th>\n",
       "      <td>NaN</td>\n",
       "      <td>NaN</td>\n",
       "      <td>37.6</td>\n",
       "      <td>29.9</td>\n",
       "      <td>98.524734</td>\n",
       "      <td>100.000153</td>\n",
       "      <td>38.542255</td>\n",
       "      <td>29.619342</td>\n",
       "      <td>21.857621</td>\n",
       "      <td>213.414006</td>\n",
       "      <td>...</td>\n",
       "      <td>21.621661</td>\n",
       "      <td>15.841235</td>\n",
       "      <td>16.655469</td>\n",
       "      <td>37.6450</td>\n",
       "      <td>127.135</td>\n",
       "      <td>212.335</td>\n",
       "      <td>5.178230</td>\n",
       "      <td>5992.895996</td>\n",
       "      <td>38.9</td>\n",
       "      <td>29.8</td>\n",
       "    </tr>\n",
       "  </tbody>\n",
       "</table>\n",
       "<p>2 rows × 25 columns</p>\n",
       "</div>"
      ],
      "text/plain": [
       "      station Date  Present_Tmax  Present_Tmin  LDAPS_RHmin  LDAPS_RHmax  \\\n",
       "7750      NaN  NaN          20.0          11.3    19.794666    58.936283   \n",
       "7751      NaN  NaN          37.6          29.9    98.524734   100.000153   \n",
       "\n",
       "      LDAPS_Tmax_lapse  LDAPS_Tmin_lapse   LDAPS_WS    LDAPS_LH  ...  \\\n",
       "7750         17.624954         14.272646   2.882580  -13.603212  ...   \n",
       "7751         38.542255         29.619342  21.857621  213.414006  ...   \n",
       "\n",
       "      LDAPS_PPT2  LDAPS_PPT3  LDAPS_PPT4      lat      lon      DEM     Slope  \\\n",
       "7750    0.000000    0.000000    0.000000  37.4562  126.826   12.370  0.098475   \n",
       "7751   21.621661   15.841235   16.655469  37.6450  127.135  212.335  5.178230   \n",
       "\n",
       "      Solar radiation  Next_Tmax  Next_Tmin  \n",
       "7750      4329.520508       17.4       11.3  \n",
       "7751      5992.895996       38.9       29.8  \n",
       "\n",
       "[2 rows x 25 columns]"
      ]
     },
     "execution_count": 5,
     "metadata": {},
     "output_type": "execute_result"
    }
   ],
   "source": [
    "df[df['station'].isnull()]"
   ]
  },
  {
   "cell_type": "code",
   "execution_count": 6,
   "metadata": {},
   "outputs": [],
   "source": [
    "df.drop([7750,7751],inplace=True)"
   ]
  },
  {
   "cell_type": "code",
   "execution_count": 7,
   "metadata": {},
   "outputs": [
    {
     "data": {
      "text/plain": [
       "station              0\n",
       "Date                 0\n",
       "Present_Tmax        70\n",
       "Present_Tmin        70\n",
       "LDAPS_RHmin         75\n",
       "LDAPS_RHmax         75\n",
       "LDAPS_Tmax_lapse    75\n",
       "LDAPS_Tmin_lapse    75\n",
       "LDAPS_WS            75\n",
       "LDAPS_LH            75\n",
       "LDAPS_CC1           75\n",
       "LDAPS_CC2           75\n",
       "LDAPS_CC3           75\n",
       "LDAPS_CC4           75\n",
       "LDAPS_PPT1          75\n",
       "LDAPS_PPT2          75\n",
       "LDAPS_PPT3          75\n",
       "LDAPS_PPT4          75\n",
       "lat                  0\n",
       "lon                  0\n",
       "DEM                  0\n",
       "Slope                0\n",
       "Solar radiation      0\n",
       "Next_Tmax           27\n",
       "Next_Tmin           27\n",
       "dtype: int64"
      ]
     },
     "execution_count": 7,
     "metadata": {},
     "output_type": "execute_result"
    }
   ],
   "source": [
    "df.isnull().sum()"
   ]
  },
  {
   "cell_type": "code",
   "execution_count": 8,
   "metadata": {},
   "outputs": [],
   "source": [
    "from sklearn.impute import KNNImputer\n",
    "\n",
    "imputer=KNNImputer()"
   ]
  },
  {
   "cell_type": "code",
   "execution_count": 9,
   "metadata": {},
   "outputs": [],
   "source": [
    "columns=['Present_Tmax','Present_Tmin','LDAPS_RHmin','LDAPS_RHmax','LDAPS_Tmax_lapse','LDAPS_Tmin_lapse','LDAPS_WS',\n",
    "       'LDAPS_LH','LDAPS_CC1','LDAPS_CC2','LDAPS_CC3','LDAPS_CC4','LDAPS_PPT1','LDAPS_PPT2','LDAPS_PPT3','LDAPS_PPT4',\n",
    "       'Next_Tmax','Next_Tmin']"
   ]
  },
  {
   "cell_type": "code",
   "execution_count": 10,
   "metadata": {},
   "outputs": [
    {
     "data": {
      "text/plain": [
       "'for col in columns:\\n    df[col] = imputer.fit_transform(df[[col]])'"
      ]
     },
     "execution_count": 10,
     "metadata": {},
     "output_type": "execute_result"
    }
   ],
   "source": [
    "'''for col in columns:\n",
    "    df[col] = imputer.fit_transform(df[[col]])'''"
   ]
  },
  {
   "cell_type": "code",
   "execution_count": 11,
   "metadata": {},
   "outputs": [
    {
     "data": {
      "text/plain": [
       "\"'from sklearn.impute import SimpleImputer\\n\\nimputer = SimpleImputer(strategy='median')\""
      ]
     },
     "execution_count": 11,
     "metadata": {},
     "output_type": "execute_result"
    }
   ],
   "source": [
    "''''from sklearn.impute import SimpleImputer\n",
    "\n",
    "imputer = SimpleImputer(strategy='median')'''"
   ]
  },
  {
   "cell_type": "code",
   "execution_count": 12,
   "metadata": {},
   "outputs": [],
   "source": [
    "for col in columns:\n",
    "    df[col] = imputer.fit_transform(df[[col]])"
   ]
  },
  {
   "cell_type": "code",
   "execution_count": 13,
   "metadata": {},
   "outputs": [
    {
     "data": {
      "text/plain": [
       "station             0\n",
       "Date                0\n",
       "Present_Tmax        0\n",
       "Present_Tmin        0\n",
       "LDAPS_RHmin         0\n",
       "LDAPS_RHmax         0\n",
       "LDAPS_Tmax_lapse    0\n",
       "LDAPS_Tmin_lapse    0\n",
       "LDAPS_WS            0\n",
       "LDAPS_LH            0\n",
       "LDAPS_CC1           0\n",
       "LDAPS_CC2           0\n",
       "LDAPS_CC3           0\n",
       "LDAPS_CC4           0\n",
       "LDAPS_PPT1          0\n",
       "LDAPS_PPT2          0\n",
       "LDAPS_PPT3          0\n",
       "LDAPS_PPT4          0\n",
       "lat                 0\n",
       "lon                 0\n",
       "DEM                 0\n",
       "Slope               0\n",
       "Solar radiation     0\n",
       "Next_Tmax           0\n",
       "Next_Tmin           0\n",
       "dtype: int64"
      ]
     },
     "execution_count": 13,
     "metadata": {},
     "output_type": "execute_result"
    }
   ],
   "source": [
    "df.isnull().sum()"
   ]
  },
  {
   "cell_type": "code",
   "execution_count": 14,
   "metadata": {},
   "outputs": [
    {
     "data": {
      "text/plain": [
       "\"def spliting(date):\\n    return date.split('-')[1]\\n\\ndf['month']=df['Date'].apply(spliting)\""
      ]
     },
     "execution_count": 14,
     "metadata": {},
     "output_type": "execute_result"
    }
   ],
   "source": [
    "'''def spliting(date):\n",
    "    return date.split('-')[1]\n",
    "\n",
    "df['month']=df['Date'].apply(spliting)'''"
   ]
  },
  {
   "cell_type": "code",
   "execution_count": 15,
   "metadata": {},
   "outputs": [
    {
     "data": {
      "text/plain": [
       "\"def spliting(date):\\n    return date.split('-')[2]\\n\\ndf['year']=df['Date'].apply(spliting)\""
      ]
     },
     "execution_count": 15,
     "metadata": {},
     "output_type": "execute_result"
    }
   ],
   "source": [
    "'''def spliting(date):\n",
    "    return date.split('-')[2]\n",
    "\n",
    "df['year']=df['Date'].apply(spliting)'''"
   ]
  },
  {
   "cell_type": "code",
   "execution_count": 16,
   "metadata": {},
   "outputs": [
    {
     "data": {
      "text/plain": [
       "\"df['month'].unique()\""
      ]
     },
     "execution_count": 16,
     "metadata": {},
     "output_type": "execute_result"
    }
   ],
   "source": [
    "'''df['month'].unique()'''"
   ]
  },
  {
   "cell_type": "code",
   "execution_count": 17,
   "metadata": {},
   "outputs": [],
   "source": [
    "df.drop('Date',axis=1,inplace=True)\n",
    "df.drop('Present_Tmax',axis=1,inplace=True)\n",
    "df.drop('Present_Tmin',axis=1,inplace=True)\n",
    "df.drop('station',axis=1,inplace=True)\n",
    "df.drop('DEM',axis=1,inplace=True)\n",
    "df.drop('Slope',axis=1,inplace=True)"
   ]
  },
  {
   "cell_type": "code",
   "execution_count": 18,
   "metadata": {},
   "outputs": [
    {
     "name": "stdout",
     "output_type": "stream",
     "text": [
      "<class 'pandas.core.frame.DataFrame'>\n",
      "Int64Index: 7750 entries, 0 to 7749\n",
      "Data columns (total 19 columns):\n",
      " #   Column            Non-Null Count  Dtype  \n",
      "---  ------            --------------  -----  \n",
      " 0   LDAPS_RHmin       7750 non-null   float64\n",
      " 1   LDAPS_RHmax       7750 non-null   float64\n",
      " 2   LDAPS_Tmax_lapse  7750 non-null   float64\n",
      " 3   LDAPS_Tmin_lapse  7750 non-null   float64\n",
      " 4   LDAPS_WS          7750 non-null   float64\n",
      " 5   LDAPS_LH          7750 non-null   float64\n",
      " 6   LDAPS_CC1         7750 non-null   float64\n",
      " 7   LDAPS_CC2         7750 non-null   float64\n",
      " 8   LDAPS_CC3         7750 non-null   float64\n",
      " 9   LDAPS_CC4         7750 non-null   float64\n",
      " 10  LDAPS_PPT1        7750 non-null   float64\n",
      " 11  LDAPS_PPT2        7750 non-null   float64\n",
      " 12  LDAPS_PPT3        7750 non-null   float64\n",
      " 13  LDAPS_PPT4        7750 non-null   float64\n",
      " 14  lat               7750 non-null   float64\n",
      " 15  lon               7750 non-null   float64\n",
      " 16  Solar radiation   7750 non-null   float64\n",
      " 17  Next_Tmax         7750 non-null   float64\n",
      " 18  Next_Tmin         7750 non-null   float64\n",
      "dtypes: float64(19)\n",
      "memory usage: 1.2 MB\n"
     ]
    }
   ],
   "source": [
    "df.info()"
   ]
  },
  {
   "cell_type": "code",
   "execution_count": 19,
   "metadata": {},
   "outputs": [
    {
     "data": {
      "text/plain": [
       "'\\'df[\"year\"] = pd.to_numeric(df[\"year\"], errors=\\'coerce\\')'"
      ]
     },
     "execution_count": 19,
     "metadata": {},
     "output_type": "execute_result"
    }
   ],
   "source": [
    "'''df[\"month\"] = pd.to_numeric(df[\"month\"], errors='coerce')'''\n",
    "''''df[\"year\"] = pd.to_numeric(df[\"year\"], errors='coerce')'''"
   ]
  },
  {
   "cell_type": "code",
   "execution_count": 20,
   "metadata": {},
   "outputs": [
    {
     "data": {
      "text/html": [
       "<div>\n",
       "<style scoped>\n",
       "    .dataframe tbody tr th:only-of-type {\n",
       "        vertical-align: middle;\n",
       "    }\n",
       "\n",
       "    .dataframe tbody tr th {\n",
       "        vertical-align: top;\n",
       "    }\n",
       "\n",
       "    .dataframe thead th {\n",
       "        text-align: right;\n",
       "    }\n",
       "</style>\n",
       "<table border=\"1\" class=\"dataframe\">\n",
       "  <thead>\n",
       "    <tr style=\"text-align: right;\">\n",
       "      <th></th>\n",
       "      <th>LDAPS_RHmin</th>\n",
       "      <th>LDAPS_RHmax</th>\n",
       "      <th>LDAPS_Tmax_lapse</th>\n",
       "      <th>LDAPS_Tmin_lapse</th>\n",
       "      <th>LDAPS_WS</th>\n",
       "      <th>LDAPS_LH</th>\n",
       "      <th>LDAPS_CC1</th>\n",
       "      <th>LDAPS_CC2</th>\n",
       "      <th>LDAPS_CC3</th>\n",
       "      <th>LDAPS_CC4</th>\n",
       "      <th>LDAPS_PPT1</th>\n",
       "      <th>LDAPS_PPT2</th>\n",
       "      <th>LDAPS_PPT3</th>\n",
       "      <th>LDAPS_PPT4</th>\n",
       "      <th>lat</th>\n",
       "      <th>lon</th>\n",
       "      <th>Solar radiation</th>\n",
       "      <th>Next_Tmax</th>\n",
       "      <th>Next_Tmin</th>\n",
       "    </tr>\n",
       "  </thead>\n",
       "  <tbody>\n",
       "    <tr>\n",
       "      <th>count</th>\n",
       "      <td>7750.000000</td>\n",
       "      <td>7750.000000</td>\n",
       "      <td>7750.000000</td>\n",
       "      <td>7750.000000</td>\n",
       "      <td>7750.000000</td>\n",
       "      <td>7750.000000</td>\n",
       "      <td>7750.000000</td>\n",
       "      <td>7750.000000</td>\n",
       "      <td>7750.000000</td>\n",
       "      <td>7750.000000</td>\n",
       "      <td>7750.000000</td>\n",
       "      <td>7750.000000</td>\n",
       "      <td>7750.000000</td>\n",
       "      <td>7750.000000</td>\n",
       "      <td>7750.000000</td>\n",
       "      <td>7750.000000</td>\n",
       "      <td>7750.000000</td>\n",
       "      <td>7750.000000</td>\n",
       "      <td>7750.000000</td>\n",
       "    </tr>\n",
       "    <tr>\n",
       "      <th>mean</th>\n",
       "      <td>56.758747</td>\n",
       "      <td>88.377125</td>\n",
       "      <td>29.613845</td>\n",
       "      <td>23.512997</td>\n",
       "      <td>7.096501</td>\n",
       "      <td>62.495273</td>\n",
       "      <td>0.368744</td>\n",
       "      <td>0.356047</td>\n",
       "      <td>0.318359</td>\n",
       "      <td>0.299142</td>\n",
       "      <td>0.589061</td>\n",
       "      <td>0.482312</td>\n",
       "      <td>0.276208</td>\n",
       "      <td>0.267307</td>\n",
       "      <td>37.544720</td>\n",
       "      <td>126.991400</td>\n",
       "      <td>5341.549330</td>\n",
       "      <td>30.275437</td>\n",
       "      <td>22.932837</td>\n",
       "    </tr>\n",
       "    <tr>\n",
       "      <th>std</th>\n",
       "      <td>14.585101</td>\n",
       "      <td>7.149011</td>\n",
       "      <td>2.928357</td>\n",
       "      <td>2.330881</td>\n",
       "      <td>2.166519</td>\n",
       "      <td>33.516382</td>\n",
       "      <td>0.261096</td>\n",
       "      <td>0.256717</td>\n",
       "      <td>0.249039</td>\n",
       "      <td>0.253007</td>\n",
       "      <td>1.918691</td>\n",
       "      <td>1.737965</td>\n",
       "      <td>1.142722</td>\n",
       "      <td>1.185994</td>\n",
       "      <td>0.050335</td>\n",
       "      <td>0.079406</td>\n",
       "      <td>428.996445</td>\n",
       "      <td>3.117994</td>\n",
       "      <td>2.478851</td>\n",
       "    </tr>\n",
       "    <tr>\n",
       "      <th>min</th>\n",
       "      <td>19.794666</td>\n",
       "      <td>58.936283</td>\n",
       "      <td>17.624954</td>\n",
       "      <td>14.272646</td>\n",
       "      <td>2.882580</td>\n",
       "      <td>-13.603212</td>\n",
       "      <td>0.000000</td>\n",
       "      <td>0.000000</td>\n",
       "      <td>0.000000</td>\n",
       "      <td>0.000000</td>\n",
       "      <td>0.000000</td>\n",
       "      <td>0.000000</td>\n",
       "      <td>0.000000</td>\n",
       "      <td>0.000000</td>\n",
       "      <td>37.456200</td>\n",
       "      <td>126.826000</td>\n",
       "      <td>4329.520508</td>\n",
       "      <td>17.400000</td>\n",
       "      <td>11.300000</td>\n",
       "    </tr>\n",
       "    <tr>\n",
       "      <th>25%</th>\n",
       "      <td>46.048225</td>\n",
       "      <td>84.318649</td>\n",
       "      <td>27.693733</td>\n",
       "      <td>22.115268</td>\n",
       "      <td>5.686498</td>\n",
       "      <td>37.547426</td>\n",
       "      <td>0.148339</td>\n",
       "      <td>0.142424</td>\n",
       "      <td>0.103113</td>\n",
       "      <td>0.082777</td>\n",
       "      <td>0.000000</td>\n",
       "      <td>0.000000</td>\n",
       "      <td>0.000000</td>\n",
       "      <td>0.000000</td>\n",
       "      <td>37.510200</td>\n",
       "      <td>126.937000</td>\n",
       "      <td>4999.018555</td>\n",
       "      <td>28.200000</td>\n",
       "      <td>21.400000</td>\n",
       "    </tr>\n",
       "    <tr>\n",
       "      <th>50%</th>\n",
       "      <td>55.313244</td>\n",
       "      <td>89.699505</td>\n",
       "      <td>29.662273</td>\n",
       "      <td>23.735942</td>\n",
       "      <td>6.563068</td>\n",
       "      <td>57.310630</td>\n",
       "      <td>0.320110</td>\n",
       "      <td>0.315667</td>\n",
       "      <td>0.265264</td>\n",
       "      <td>0.232354</td>\n",
       "      <td>0.000000</td>\n",
       "      <td>0.000000</td>\n",
       "      <td>0.000000</td>\n",
       "      <td>0.000000</td>\n",
       "      <td>37.550700</td>\n",
       "      <td>126.995000</td>\n",
       "      <td>5436.345215</td>\n",
       "      <td>30.500000</td>\n",
       "      <td>23.100000</td>\n",
       "    </tr>\n",
       "    <tr>\n",
       "      <th>75%</th>\n",
       "      <td>67.032715</td>\n",
       "      <td>93.703491</td>\n",
       "      <td>31.682567</td>\n",
       "      <td>25.133460</td>\n",
       "      <td>8.005363</td>\n",
       "      <td>83.891182</td>\n",
       "      <td>0.571665</td>\n",
       "      <td>0.554910</td>\n",
       "      <td>0.493971</td>\n",
       "      <td>0.497218</td>\n",
       "      <td>0.067515</td>\n",
       "      <td>0.024224</td>\n",
       "      <td>0.009685</td>\n",
       "      <td>0.000686</td>\n",
       "      <td>37.577600</td>\n",
       "      <td>127.042000</td>\n",
       "      <td>5728.316406</td>\n",
       "      <td>32.600000</td>\n",
       "      <td>24.600000</td>\n",
       "    </tr>\n",
       "    <tr>\n",
       "      <th>max</th>\n",
       "      <td>98.524734</td>\n",
       "      <td>100.000153</td>\n",
       "      <td>38.542255</td>\n",
       "      <td>29.619342</td>\n",
       "      <td>21.857621</td>\n",
       "      <td>213.414006</td>\n",
       "      <td>0.967277</td>\n",
       "      <td>0.968353</td>\n",
       "      <td>0.983789</td>\n",
       "      <td>0.974710</td>\n",
       "      <td>23.701544</td>\n",
       "      <td>21.621661</td>\n",
       "      <td>15.841235</td>\n",
       "      <td>16.655469</td>\n",
       "      <td>37.645000</td>\n",
       "      <td>127.135000</td>\n",
       "      <td>5992.895996</td>\n",
       "      <td>38.900000</td>\n",
       "      <td>29.800000</td>\n",
       "    </tr>\n",
       "  </tbody>\n",
       "</table>\n",
       "</div>"
      ],
      "text/plain": [
       "       LDAPS_RHmin  LDAPS_RHmax  LDAPS_Tmax_lapse  LDAPS_Tmin_lapse  \\\n",
       "count  7750.000000  7750.000000       7750.000000       7750.000000   \n",
       "mean     56.758747    88.377125         29.613845         23.512997   \n",
       "std      14.585101     7.149011          2.928357          2.330881   \n",
       "min      19.794666    58.936283         17.624954         14.272646   \n",
       "25%      46.048225    84.318649         27.693733         22.115268   \n",
       "50%      55.313244    89.699505         29.662273         23.735942   \n",
       "75%      67.032715    93.703491         31.682567         25.133460   \n",
       "max      98.524734   100.000153         38.542255         29.619342   \n",
       "\n",
       "          LDAPS_WS     LDAPS_LH    LDAPS_CC1    LDAPS_CC2    LDAPS_CC3  \\\n",
       "count  7750.000000  7750.000000  7750.000000  7750.000000  7750.000000   \n",
       "mean      7.096501    62.495273     0.368744     0.356047     0.318359   \n",
       "std       2.166519    33.516382     0.261096     0.256717     0.249039   \n",
       "min       2.882580   -13.603212     0.000000     0.000000     0.000000   \n",
       "25%       5.686498    37.547426     0.148339     0.142424     0.103113   \n",
       "50%       6.563068    57.310630     0.320110     0.315667     0.265264   \n",
       "75%       8.005363    83.891182     0.571665     0.554910     0.493971   \n",
       "max      21.857621   213.414006     0.967277     0.968353     0.983789   \n",
       "\n",
       "         LDAPS_CC4   LDAPS_PPT1   LDAPS_PPT2   LDAPS_PPT3   LDAPS_PPT4  \\\n",
       "count  7750.000000  7750.000000  7750.000000  7750.000000  7750.000000   \n",
       "mean      0.299142     0.589061     0.482312     0.276208     0.267307   \n",
       "std       0.253007     1.918691     1.737965     1.142722     1.185994   \n",
       "min       0.000000     0.000000     0.000000     0.000000     0.000000   \n",
       "25%       0.082777     0.000000     0.000000     0.000000     0.000000   \n",
       "50%       0.232354     0.000000     0.000000     0.000000     0.000000   \n",
       "75%       0.497218     0.067515     0.024224     0.009685     0.000686   \n",
       "max       0.974710    23.701544    21.621661    15.841235    16.655469   \n",
       "\n",
       "               lat          lon  Solar radiation    Next_Tmax    Next_Tmin  \n",
       "count  7750.000000  7750.000000      7750.000000  7750.000000  7750.000000  \n",
       "mean     37.544720   126.991400      5341.549330    30.275437    22.932837  \n",
       "std       0.050335     0.079406       428.996445     3.117994     2.478851  \n",
       "min      37.456200   126.826000      4329.520508    17.400000    11.300000  \n",
       "25%      37.510200   126.937000      4999.018555    28.200000    21.400000  \n",
       "50%      37.550700   126.995000      5436.345215    30.500000    23.100000  \n",
       "75%      37.577600   127.042000      5728.316406    32.600000    24.600000  \n",
       "max      37.645000   127.135000      5992.895996    38.900000    29.800000  "
      ]
     },
     "execution_count": 20,
     "metadata": {},
     "output_type": "execute_result"
    }
   ],
   "source": [
    "df.describe()"
   ]
  },
  {
   "cell_type": "code",
   "execution_count": 21,
   "metadata": {},
   "outputs": [
    {
     "data": {
      "text/plain": [
       "\"'outliers_indices = detect_outliers(df, 0, df.columns)\\nlen(outliers_indices)\""
      ]
     },
     "execution_count": 21,
     "metadata": {},
     "output_type": "execute_result"
    }
   ],
   "source": [
    "from datasist.structdata import detect_outliers \n",
    "\n",
    "''''outliers_indices = detect_outliers(df, 0, df.columns)\n",
    "len(outliers_indices)'''"
   ]
  },
  {
   "cell_type": "code",
   "execution_count": 22,
   "metadata": {},
   "outputs": [],
   "source": [
    "for col in df.columns:\n",
    "    outliers_indices = detect_outliers(df, 0, [col])\n",
    "    col_mean = df[col].mean()\n",
    "    df[col].iloc[outliers_indices] = col_mean"
   ]
  },
  {
   "cell_type": "code",
   "execution_count": 23,
   "metadata": {},
   "outputs": [
    {
     "data": {
      "text/plain": [
       "<AxesSubplot:xlabel='LDAPS_Tmax_lapse'>"
      ]
     },
     "execution_count": 23,
     "metadata": {},
     "output_type": "execute_result"
    },
    {
     "data": {
      "image/png": "[encoded data removed]",
      "text/plain": [
       "<Figure size 432x288 with 1 Axes>"
      ]
     },
     "metadata": {
      "needs_background": "light"
     },
     "output_type": "display_data"
    }
   ],
   "source": [
    "sns.boxplot(x='LDAPS_Tmax_lapse', data=df)\n",
    "sns.stripplot(x='LDAPS_Tmax_lapse', data=df, color=\"#474646\")"
   ]
  },
  {
   "cell_type": "markdown",
   "metadata": {},
   "source": [
    "<h1>Data visualization</h1>"
   ]
  },
  {
   "cell_type": "code",
   "execution_count": 24,
   "metadata": {},
   "outputs": [
    {
     "name": "stdout",
     "output_type": "stream",
     "text": [
      "<class 'pandas.core.frame.DataFrame'>\n",
      "Int64Index: 7750 entries, 0 to 7749\n",
      "Data columns (total 19 columns):\n",
      " #   Column            Non-Null Count  Dtype  \n",
      "---  ------            --------------  -----  \n",
      " 0   LDAPS_RHmin       7750 non-null   float64\n",
      " 1   LDAPS_RHmax       7750 non-null   float64\n",
      " 2   LDAPS_Tmax_lapse  7750 non-null   float64\n",
      " 3   LDAPS_Tmin_lapse  7750 non-null   float64\n",
      " 4   LDAPS_WS          7750 non-null   float64\n",
      " 5   LDAPS_LH          7750 non-null   float64\n",
      " 6   LDAPS_CC1         7750 non-null   float64\n",
      " 7   LDAPS_CC2         7750 non-null   float64\n",
      " 8   LDAPS_CC3         7750 non-null   float64\n",
      " 9   LDAPS_CC4         7750 non-null   float64\n",
      " 10  LDAPS_PPT1        7750 non-null   float64\n",
      " 11  LDAPS_PPT2        7750 non-null   float64\n",
      " 12  LDAPS_PPT3        7750 non-null   float64\n",
      " 13  LDAPS_PPT4        7750 non-null   float64\n",
      " 14  lat               7750 non-null   float64\n",
      " 15  lon               7750 non-null   float64\n",
      " 16  Solar radiation   7750 non-null   float64\n",
      " 17  Next_Tmax         7750 non-null   float64\n",
      " 18  Next_Tmin         7750 non-null   float64\n",
      "dtypes: float64(19)\n",
      "memory usage: 1.2 MB\n"
     ]
    }
   ],
   "source": [
    "df.info()"
   ]
  },
  {
   "cell_type": "code",
   "execution_count": 71,
   "metadata": {},
   "outputs": [
    {
     "data": {
      "text/html": [
       "<div>\n",
       "<style scoped>\n",
       "    .dataframe tbody tr th:only-of-type {\n",
       "        vertical-align: middle;\n",
       "    }\n",
       "\n",
       "    .dataframe tbody tr th {\n",
       "        vertical-align: top;\n",
       "    }\n",
       "\n",
       "    .dataframe thead th {\n",
       "        text-align: right;\n",
       "    }\n",
       "</style>\n",
       "<table border=\"1\" class=\"dataframe\">\n",
       "  <thead>\n",
       "    <tr style=\"text-align: right;\">\n",
       "      <th></th>\n",
       "      <th>LDAPS_RHmin</th>\n",
       "      <th>LDAPS_RHmax</th>\n",
       "      <th>LDAPS_Tmax_lapse</th>\n",
       "      <th>LDAPS_Tmin_lapse</th>\n",
       "      <th>LDAPS_WS</th>\n",
       "      <th>LDAPS_LH</th>\n",
       "      <th>LDAPS_CC1</th>\n",
       "      <th>LDAPS_CC2</th>\n",
       "      <th>LDAPS_CC3</th>\n",
       "      <th>LDAPS_CC4</th>\n",
       "      <th>LDAPS_PPT1</th>\n",
       "      <th>LDAPS_PPT2</th>\n",
       "      <th>LDAPS_PPT3</th>\n",
       "      <th>LDAPS_PPT4</th>\n",
       "      <th>lat</th>\n",
       "      <th>lon</th>\n",
       "      <th>Solar radiation</th>\n",
       "      <th>Next_Tmax</th>\n",
       "      <th>Next_Tmin</th>\n",
       "    </tr>\n",
       "  </thead>\n",
       "  <tbody>\n",
       "    <tr>\n",
       "      <th>count</th>\n",
       "      <td>7750.000000</td>\n",
       "      <td>7750.000000</td>\n",
       "      <td>7750.000000</td>\n",
       "      <td>7750.000000</td>\n",
       "      <td>7750.000000</td>\n",
       "      <td>7750.000000</td>\n",
       "      <td>7750.000000</td>\n",
       "      <td>7750.000000</td>\n",
       "      <td>7750.000000</td>\n",
       "      <td>7750.000000</td>\n",
       "      <td>7750.000000</td>\n",
       "      <td>7750.000000</td>\n",
       "      <td>7750.000000</td>\n",
       "      <td>7750.000000</td>\n",
       "      <td>7750.000000</td>\n",
       "      <td>7750.000000</td>\n",
       "      <td>7750.000000</td>\n",
       "      <td>7750.000000</td>\n",
       "      <td>7750.000000</td>\n",
       "    </tr>\n",
       "    <tr>\n",
       "      <th>mean</th>\n",
       "      <td>56.753357</td>\n",
       "      <td>88.776977</td>\n",
       "      <td>29.663619</td>\n",
       "      <td>23.647150</td>\n",
       "      <td>6.789062</td>\n",
       "      <td>61.550939</td>\n",
       "      <td>0.368744</td>\n",
       "      <td>0.356047</td>\n",
       "      <td>0.318359</td>\n",
       "      <td>0.299142</td>\n",
       "      <td>0.134269</td>\n",
       "      <td>0.109596</td>\n",
       "      <td>0.061933</td>\n",
       "      <td>0.064958</td>\n",
       "      <td>37.544720</td>\n",
       "      <td>126.991400</td>\n",
       "      <td>5341.549330</td>\n",
       "      <td>30.315865</td>\n",
       "      <td>23.018496</td>\n",
       "    </tr>\n",
       "    <tr>\n",
       "      <th>std</th>\n",
       "      <td>14.577381</td>\n",
       "      <td>6.517376</td>\n",
       "      <td>2.837677</td>\n",
       "      <td>2.113398</td>\n",
       "      <td>1.583824</td>\n",
       "      <td>31.992832</td>\n",
       "      <td>0.261096</td>\n",
       "      <td>0.256717</td>\n",
       "      <td>0.249039</td>\n",
       "      <td>0.253007</td>\n",
       "      <td>0.241440</td>\n",
       "      <td>0.200304</td>\n",
       "      <td>0.114400</td>\n",
       "      <td>0.114643</td>\n",
       "      <td>0.050335</td>\n",
       "      <td>0.079406</td>\n",
       "      <td>428.996445</td>\n",
       "      <td>3.053096</td>\n",
       "      <td>2.337567</td>\n",
       "    </tr>\n",
       "    <tr>\n",
       "      <th>min</th>\n",
       "      <td>19.794666</td>\n",
       "      <td>70.271881</td>\n",
       "      <td>21.739494</td>\n",
       "      <td>17.589862</td>\n",
       "      <td>2.882580</td>\n",
       "      <td>-13.603212</td>\n",
       "      <td>0.000000</td>\n",
       "      <td>0.000000</td>\n",
       "      <td>0.000000</td>\n",
       "      <td>0.000000</td>\n",
       "      <td>0.000000</td>\n",
       "      <td>0.000000</td>\n",
       "      <td>0.000000</td>\n",
       "      <td>0.000000</td>\n",
       "      <td>37.456200</td>\n",
       "      <td>126.826000</td>\n",
       "      <td>4329.520508</td>\n",
       "      <td>21.600000</td>\n",
       "      <td>16.600000</td>\n",
       "    </tr>\n",
       "    <tr>\n",
       "      <th>25%</th>\n",
       "      <td>46.048225</td>\n",
       "      <td>84.871677</td>\n",
       "      <td>27.753981</td>\n",
       "      <td>22.270665</td>\n",
       "      <td>5.686498</td>\n",
       "      <td>37.547426</td>\n",
       "      <td>0.148339</td>\n",
       "      <td>0.142424</td>\n",
       "      <td>0.103113</td>\n",
       "      <td>0.082777</td>\n",
       "      <td>0.000000</td>\n",
       "      <td>0.000000</td>\n",
       "      <td>0.000000</td>\n",
       "      <td>0.000000</td>\n",
       "      <td>37.510200</td>\n",
       "      <td>126.937000</td>\n",
       "      <td>4999.018555</td>\n",
       "      <td>28.300000</td>\n",
       "      <td>21.500000</td>\n",
       "    </tr>\n",
       "    <tr>\n",
       "      <th>50%</th>\n",
       "      <td>55.313244</td>\n",
       "      <td>89.699505</td>\n",
       "      <td>29.659636</td>\n",
       "      <td>23.735942</td>\n",
       "      <td>6.563068</td>\n",
       "      <td>57.310630</td>\n",
       "      <td>0.320110</td>\n",
       "      <td>0.315667</td>\n",
       "      <td>0.265264</td>\n",
       "      <td>0.232354</td>\n",
       "      <td>0.000000</td>\n",
       "      <td>0.000000</td>\n",
       "      <td>0.000000</td>\n",
       "      <td>0.000000</td>\n",
       "      <td>37.550700</td>\n",
       "      <td>126.995000</td>\n",
       "      <td>5436.345215</td>\n",
       "      <td>30.500000</td>\n",
       "      <td>23.100000</td>\n",
       "    </tr>\n",
       "    <tr>\n",
       "      <th>75%</th>\n",
       "      <td>67.023592</td>\n",
       "      <td>93.703491</td>\n",
       "      <td>31.679982</td>\n",
       "      <td>25.133460</td>\n",
       "      <td>7.612301</td>\n",
       "      <td>82.804081</td>\n",
       "      <td>0.571665</td>\n",
       "      <td>0.554910</td>\n",
       "      <td>0.493971</td>\n",
       "      <td>0.497218</td>\n",
       "      <td>0.067515</td>\n",
       "      <td>0.024224</td>\n",
       "      <td>0.009685</td>\n",
       "      <td>0.000686</td>\n",
       "      <td>37.577600</td>\n",
       "      <td>127.042000</td>\n",
       "      <td>5728.316406</td>\n",
       "      <td>32.600000</td>\n",
       "      <td>24.600000</td>\n",
       "    </tr>\n",
       "    <tr>\n",
       "      <th>max</th>\n",
       "      <td>98.194176</td>\n",
       "      <td>100.000153</td>\n",
       "      <td>37.438654</td>\n",
       "      <td>29.619342</td>\n",
       "      <td>11.466182</td>\n",
       "      <td>153.161058</td>\n",
       "      <td>0.967277</td>\n",
       "      <td>0.968353</td>\n",
       "      <td>0.983789</td>\n",
       "      <td>0.974710</td>\n",
       "      <td>0.589061</td>\n",
       "      <td>0.482312</td>\n",
       "      <td>0.276208</td>\n",
       "      <td>0.267307</td>\n",
       "      <td>37.645000</td>\n",
       "      <td>127.135000</td>\n",
       "      <td>5992.895996</td>\n",
       "      <td>38.900000</td>\n",
       "      <td>29.400000</td>\n",
       "    </tr>\n",
       "  </tbody>\n",
       "</table>\n",
       "</div>"
      ],
      "text/plain": [
       "       LDAPS_RHmin  LDAPS_RHmax  LDAPS_Tmax_lapse  LDAPS_Tmin_lapse  \\\n",
       "count  7750.000000  7750.000000       7750.000000       7750.000000   \n",
       "mean     56.753357    88.776977         29.663619         23.647150   \n",
       "std      14.577381     6.517376          2.837677          2.113398   \n",
       "min      19.794666    70.271881         21.739494         17.589862   \n",
       "25%      46.048225    84.871677         27.753981         22.270665   \n",
       "50%      55.313244    89.699505         29.659636         23.735942   \n",
       "75%      67.023592    93.703491         31.679982         25.133460   \n",
       "max      98.194176   100.000153         37.438654         29.619342   \n",
       "\n",
       "          LDAPS_WS     LDAPS_LH    LDAPS_CC1    LDAPS_CC2    LDAPS_CC3  \\\n",
       "count  7750.000000  7750.000000  7750.000000  7750.000000  7750.000000   \n",
       "mean      6.789062    61.550939     0.368744     0.356047     0.318359   \n",
       "std       1.583824    31.992832     0.261096     0.256717     0.249039   \n",
       "min       2.882580   -13.603212     0.000000     0.000000     0.000000   \n",
       "25%       5.686498    37.547426     0.148339     0.142424     0.103113   \n",
       "50%       6.563068    57.310630     0.320110     0.315667     0.265264   \n",
       "75%       7.612301    82.804081     0.571665     0.554910     0.493971   \n",
       "max      11.466182   153.161058     0.967277     0.968353     0.983789   \n",
       "\n",
       "         LDAPS_CC4   LDAPS_PPT1   LDAPS_PPT2   LDAPS_PPT3   LDAPS_PPT4  \\\n",
       "count  7750.000000  7750.000000  7750.000000  7750.000000  7750.000000   \n",
       "mean      0.299142     0.134269     0.109596     0.061933     0.064958   \n",
       "std       0.253007     0.241440     0.200304     0.114400     0.114643   \n",
       "min       0.000000     0.000000     0.000000     0.000000     0.000000   \n",
       "25%       0.082777     0.000000     0.000000     0.000000     0.000000   \n",
       "50%       0.232354     0.000000     0.000000     0.000000     0.000000   \n",
       "75%       0.497218     0.067515     0.024224     0.009685     0.000686   \n",
       "max       0.974710     0.589061     0.482312     0.276208     0.267307   \n",
       "\n",
       "               lat          lon  Solar radiation    Next_Tmax    Next_Tmin  \n",
       "count  7750.000000  7750.000000      7750.000000  7750.000000  7750.000000  \n",
       "mean     37.544720   126.991400      5341.549330    30.315865    23.018496  \n",
       "std       0.050335     0.079406       428.996445     3.053096     2.337567  \n",
       "min      37.456200   126.826000      4329.520508    21.600000    16.600000  \n",
       "25%      37.510200   126.937000      4999.018555    28.300000    21.500000  \n",
       "50%      37.550700   126.995000      5436.345215    30.500000    23.100000  \n",
       "75%      37.577600   127.042000      5728.316406    32.600000    24.600000  \n",
       "max      37.645000   127.135000      5992.895996    38.900000    29.400000  "
      ]
     },
     "execution_count": 71,
     "metadata": {},
     "output_type": "execute_result"
    }
   ],
   "source": [
    "df.describe()"
   ]
  },
  {
   "cell_type": "code",
   "execution_count": 25,
   "metadata": {},
   "outputs": [
    {
     "data": {
      "text/plain": [
       "<AxesSubplot:xlabel='Next_Tmax', ylabel='Count'>"
      ]
     },
     "execution_count": 25,
     "metadata": {},
     "output_type": "execute_result"
    },
    {
     "data": {
      "image/png": "[encoded data removed]",
      "text/plain": [
       "<Figure size 432x288 with 1 Axes>"
      ]
     },
     "metadata": {
      "needs_background": "light"
     },
     "output_type": "display_data"
    }
   ],
   "source": [
    "sns.histplot(df['Next_Tmax'])"
   ]
  },
  {
   "cell_type": "code",
   "execution_count": 26,
   "metadata": {},
   "outputs": [
    {
     "data": {
      "text/plain": [
       "<AxesSubplot:xlabel='Next_Tmin', ylabel='Count'>"
      ]
     },
     "execution_count": 26,
     "metadata": {},
     "output_type": "execute_result"
    },
    {
     "data": {
      "image/png": "[encoded data removed]",
      "text/plain": [
       "<Figure size 432x288 with 1 Axes>"
      ]
     },
     "metadata": {
      "needs_background": "light"
     },
     "output_type": "display_data"
    }
   ],
   "source": [
    "sns.histplot(df['Next_Tmin'])"
   ]
  },
  {
   "cell_type": "code",
   "execution_count": 27,
   "metadata": {},
   "outputs": [
    {
     "data": {
      "text/plain": [
       "<AxesSubplot:xlabel='LDAPS_RHmin', ylabel='Count'>"
      ]
     },
     "execution_count": 27,
     "metadata": {},
     "output_type": "execute_result"
    },
    {
     "data": {
      "image/png": "[encoded data removed]",
      "text/plain": [
       "<Figure size 432x288 with 1 Axes>"
      ]
     },
     "metadata": {
      "needs_background": "light"
     },
     "output_type": "display_data"
    }
   ],
   "source": [
    "sns.histplot(df['LDAPS_RHmin'])"
   ]
  },
  {
   "cell_type": "code",
   "execution_count": 28,
   "metadata": {},
   "outputs": [
    {
     "data": {
      "text/plain": [
       "<AxesSubplot:xlabel='LDAPS_RHmax', ylabel='Count'>"
      ]
     },
     "execution_count": 28,
     "metadata": {},
     "output_type": "execute_result"
    },
    {
     "data": {
      "image/png": "[encoded data removed]",
      "text/plain": [
       "<Figure size 432x288 with 1 Axes>"
      ]
     },
     "metadata": {
      "needs_background": "light"
     },
     "output_type": "display_data"
    }
   ],
   "source": [
    "sns.histplot(df['LDAPS_RHmax'])"
   ]
  },
  {
   "cell_type": "code",
   "execution_count": 29,
   "metadata": {},
   "outputs": [
    {
     "data": {
      "text/plain": [
       "<AxesSubplot:xlabel='LDAPS_Tmax_lapse', ylabel='Count'>"
      ]
     },
     "execution_count": 29,
     "metadata": {},
     "output_type": "execute_result"
    },
    {
     "data": {
      "image/png": "[encoded data removed]",
      "text/plain": [
       "<Figure size 432x288 with 1 Axes>"
      ]
     },
     "metadata": {
      "needs_background": "light"
     },
     "output_type": "display_data"
    }
   ],
   "source": [
    "sns.histplot(df['LDAPS_Tmax_lapse'])"
   ]
  },
  {
   "cell_type": "code",
   "execution_count": 30,
   "metadata": {},
   "outputs": [
    {
     "data": {
      "text/plain": [
       "<AxesSubplot:xlabel='LDAPS_Tmin_lapse', ylabel='Count'>"
      ]
     },
     "execution_count": 30,
     "metadata": {},
     "output_type": "execute_result"
    },
    {
     "data": {
      "image/png": "[encoded data removed]",
      "text/plain": [
       "<Figure size 432x288 with 1 Axes>"
      ]
     },
     "metadata": {
      "needs_background": "light"
     },
     "output_type": "display_data"
    }
   ],
   "source": [
    "sns.histplot(df['LDAPS_Tmin_lapse'])"
   ]
  },
  {
   "cell_type": "code",
   "execution_count": 31,
   "metadata": {},
   "outputs": [
    {
     "data": {
      "text/plain": [
       "<AxesSubplot:xlabel='LDAPS_WS', ylabel='Count'>"
      ]
     },
     "execution_count": 31,
     "metadata": {},
     "output_type": "execute_result"
    },
    {
     "data": {
      "image/png": "[encoded data removed]",
      "text/plain": [
       "<Figure size 432x288 with 1 Axes>"
      ]
     },
     "metadata": {
      "needs_background": "light"
     },
     "output_type": "display_data"
    }
   ],
   "source": [
    "sns.histplot(df['LDAPS_WS'])"
   ]
  },
  {
   "cell_type": "code",
   "execution_count": 32,
   "metadata": {},
   "outputs": [
    {
     "data": {
      "text/plain": [
       "<AxesSubplot:xlabel='LDAPS_LH', ylabel='Count'>"
      ]
     },
     "execution_count": 32,
     "metadata": {},
     "output_type": "execute_result"
    },
    {
     "data": {
      "image/png": "[encoded data removed]",
      "text/plain": [
       "<Figure size 432x288 with 1 Axes>"
      ]
     },
     "metadata": {
      "needs_background": "light"
     },
     "output_type": "display_data"
    }
   ],
   "source": [
    "sns.histplot(df['LDAPS_LH'])"
   ]
  },
  {
   "cell_type": "code",
   "execution_count": 33,
   "metadata": {},
   "outputs": [
    {
     "data": {
      "text/plain": [
       "<AxesSubplot:xlabel='LDAPS_CC1', ylabel='Count'>"
      ]
     },
     "execution_count": 33,
     "metadata": {},
     "output_type": "execute_result"
    },
    {
     "data": {
      "image/png": "[encoded data removed]",
      "text/plain": [
       "<Figure size 432x288 with 1 Axes>"
      ]
     },
     "metadata": {
      "needs_background": "light"
     },
     "output_type": "display_data"
    }
   ],
   "source": [
    "sns.histplot(df['LDAPS_CC1'])"
   ]
  },
  {
   "cell_type": "code",
   "execution_count": 34,
   "metadata": {},
   "outputs": [
    {
     "data": {
      "text/plain": [
       "<AxesSubplot:xlabel='LDAPS_CC2', ylabel='Count'>"
      ]
     },
     "execution_count": 34,
     "metadata": {},
     "output_type": "execute_result"
    },
    {
     "data": {
      "image/png": "[encoded data removed]",
      "text/plain": [
       "<Figure size 432x288 with 1 Axes>"
      ]
     },
     "metadata": {
      "needs_background": "light"
     },
     "output_type": "display_data"
    }
   ],
   "source": [
    "sns.histplot(df['LDAPS_CC2'])"
   ]
  },
  {
   "cell_type": "code",
   "execution_count": 35,
   "metadata": {},
   "outputs": [
    {
     "data": {
      "text/plain": [
       "<AxesSubplot:xlabel='LDAPS_CC3', ylabel='Count'>"
      ]
     },
     "execution_count": 35,
     "metadata": {},
     "output_type": "execute_result"
    },
    {
     "data": {
      "image/png": "[encoded data removed]",
      "text/plain": [
       "<Figure size 432x288 with 1 Axes>"
      ]
     },
     "metadata": {
      "needs_background": "light"
     },
     "output_type": "display_data"
    }
   ],
   "source": [
    "sns.histplot(df['LDAPS_CC3'])"
   ]
  },
  {
   "cell_type": "code",
   "execution_count": 36,
   "metadata": {},
   "outputs": [
    {
     "data": {
      "text/plain": [
       "<AxesSubplot:xlabel='LDAPS_CC4', ylabel='Count'>"
      ]
     },
     "execution_count": 36,
     "metadata": {},
     "output_type": "execute_result"
    },
    {
     "data": {
      "image/png": "[encoded data removed]",
      "text/plain": [
       "<Figure size 432x288 with 1 Axes>"
      ]
     },
     "metadata": {
      "needs_background": "light"
     },
     "output_type": "display_data"
    }
   ],
   "source": [
    "sns.histplot(df['LDAPS_CC4'])"
   ]
  },
  {
   "cell_type": "code",
   "execution_count": 37,
   "metadata": {},
   "outputs": [
    {
     "data": {
      "text/plain": [
       "<AxesSubplot:xlabel='Solar radiation', ylabel='Count'>"
      ]
     },
     "execution_count": 37,
     "metadata": {},
     "output_type": "execute_result"
    },
    {
     "data": {
      "image/png": "[encoded data removed]",
      "text/plain": [
       "<Figure size 432x288 with 1 Axes>"
      ]
     },
     "metadata": {
      "needs_background": "light"
     },
     "output_type": "display_data"
    }
   ],
   "source": [
    "sns.histplot(df['Solar radiation'])"
   ]
  },
  {
   "cell_type": "code",
   "execution_count": 38,
   "metadata": {},
   "outputs": [
    {
     "data": {
      "text/plain": [
       "<AxesSubplot:xlabel='LDAPS_RHmin'>"
      ]
     },
     "execution_count": 38,
     "metadata": {},
     "output_type": "execute_result"
    },
    {
     "data": {
      "image/png": "[encoded data removed]",
      "text/plain": [
       "<Figure size 432x288 with 1 Axes>"
      ]
     },
     "metadata": {
      "needs_background": "light"
     },
     "output_type": "display_data"
    }
   ],
   "source": [
    "sns.boxplot(x='LDAPS_RHmin',data=df)"
   ]
  },
  {
   "cell_type": "code",
   "execution_count": 39,
   "metadata": {},
   "outputs": [
    {
     "data": {
      "text/plain": [
       "<AxesSubplot:xlabel='LDAPS_RHmax'>"
      ]
     },
     "execution_count": 39,
     "metadata": {},
     "output_type": "execute_result"
    },
    {
     "data": {
      "image/png": "[encoded data removed]",
      "text/plain": [
       "<Figure size 432x288 with 1 Axes>"
      ]
     },
     "metadata": {
      "needs_background": "light"
     },
     "output_type": "display_data"
    }
   ],
   "source": [
    "sns.boxplot(x='LDAPS_RHmax',data=df)"
   ]
  },
  {
   "cell_type": "code",
   "execution_count": 40,
   "metadata": {},
   "outputs": [
    {
     "data": {
      "text/plain": [
       "<AxesSubplot:xlabel='LDAPS_Tmax_lapse'>"
      ]
     },
     "execution_count": 40,
     "metadata": {},
     "output_type": "execute_result"
    },
    {
     "data": {
      "image/png": "[encoded data removed]",
      "text/plain": [
       "<Figure size 432x288 with 1 Axes>"
      ]
     },
     "metadata": {
      "needs_background": "light"
     },
     "output_type": "display_data"
    }
   ],
   "source": [
    "sns.boxplot(x='LDAPS_Tmax_lapse',data=df)"
   ]
  },
  {
   "cell_type": "code",
   "execution_count": 41,
   "metadata": {},
   "outputs": [
    {
     "data": {
      "text/plain": [
       "<AxesSubplot:xlabel='LDAPS_Tmin_lapse'>"
      ]
     },
     "execution_count": 41,
     "metadata": {},
     "output_type": "execute_result"
    },
    {
     "data": {
      "image/png": "[encoded data removed]",
      "text/plain": [
       "<Figure size 432x288 with 1 Axes>"
      ]
     },
     "metadata": {
      "needs_background": "light"
     },
     "output_type": "display_data"
    }
   ],
   "source": [
    "sns.boxplot(x='LDAPS_Tmin_lapse',data=df)"
   ]
  },
  {
   "cell_type": "code",
   "execution_count": 42,
   "metadata": {},
   "outputs": [
    {
     "data": {
      "text/plain": [
       "<AxesSubplot:xlabel='LDAPS_WS'>"
      ]
     },
     "execution_count": 42,
     "metadata": {},
     "output_type": "execute_result"
    },
    {
     "data": {
      "image/png": "[encoded data removed]",
      "text/plain": [
       "<Figure size 432x288 with 1 Axes>"
      ]
     },
     "metadata": {
      "needs_background": "light"
     },
     "output_type": "display_data"
    }
   ],
   "source": [
    "sns.boxplot(x='LDAPS_WS',data=df)"
   ]
  },
  {
   "cell_type": "code",
   "execution_count": 43,
   "metadata": {},
   "outputs": [
    {
     "data": {
      "text/plain": [
       "<AxesSubplot:xlabel='LDAPS_LH'>"
      ]
     },
     "execution_count": 43,
     "metadata": {},
     "output_type": "execute_result"
    },
    {
     "data": {
      "image/png": "[encoded data removed]",
      "text/plain": [
       "<Figure size 432x288 with 1 Axes>"
      ]
     },
     "metadata": {
      "needs_background": "light"
     },
     "output_type": "display_data"
    }
   ],
   "source": [
    "sns.boxplot(x='LDAPS_LH',data=df)"
   ]
  },
  {
   "cell_type": "code",
   "execution_count": 44,
   "metadata": {},
   "outputs": [
    {
     "data": {
      "text/plain": [
       "<AxesSubplot:xlabel='LDAPS_CC1'>"
      ]
     },
     "execution_count": 44,
     "metadata": {},
     "output_type": "execute_result"
    },
    {
     "data": {
      "image/png": "[encoded data removed]",
      "text/plain": [
       "<Figure size 432x288 with 1 Axes>"
      ]
     },
     "metadata": {
      "needs_background": "light"
     },
     "output_type": "display_data"
    }
   ],
   "source": [
    "sns.boxplot(x='LDAPS_CC1',data=df)"
   ]
  },
  {
   "cell_type": "code",
   "execution_count": 45,
   "metadata": {},
   "outputs": [
    {
     "data": {
      "text/plain": [
       "<AxesSubplot:xlabel='LDAPS_CC2'>"
      ]
     },
     "execution_count": 45,
     "metadata": {},
     "output_type": "execute_result"
    },
    {
     "data": {
      "image/png": "[encoded data removed]",
      "text/plain": [
       "<Figure size 432x288 with 1 Axes>"
      ]
     },
     "metadata": {
      "needs_background": "light"
     },
     "output_type": "display_data"
    }
   ],
   "source": [
    "sns.boxplot(x='LDAPS_CC2',data=df)"
   ]
  },
  {
   "cell_type": "code",
   "execution_count": 46,
   "metadata": {},
   "outputs": [
    {
     "data": {
      "text/plain": [
       "<AxesSubplot:xlabel='LDAPS_CC3'>"
      ]
     },
     "execution_count": 46,
     "metadata": {},
     "output_type": "execute_result"
    },
    {
     "data": {
      "image/png": "[encoded data removed]",
      "text/plain": [
       "<Figure size 432x288 with 1 Axes>"
      ]
     },
     "metadata": {
      "needs_background": "light"
     },
     "output_type": "display_data"
    }
   ],
   "source": [
    "sns.boxplot(x='LDAPS_CC3',data=df)"
   ]
  },
  {
   "cell_type": "code",
   "execution_count": 47,
   "metadata": {},
   "outputs": [
    {
     "data": {
      "text/plain": [
       "<AxesSubplot:xlabel='LDAPS_CC4'>"
      ]
     },
     "execution_count": 47,
     "metadata": {},
     "output_type": "execute_result"
    },
    {
     "data": {
      "image/png": "[encoded data removed]",
      "text/plain": [
       "<Figure size 432x288 with 1 Axes>"
      ]
     },
     "metadata": {
      "needs_background": "light"
     },
     "output_type": "display_data"
    }
   ],
   "source": [
    "sns.boxplot(x='LDAPS_CC4',data=df)"
   ]
  },
  {
   "cell_type": "code",
   "execution_count": 48,
   "metadata": {},
   "outputs": [
    {
     "data": {
      "text/plain": [
       "<AxesSubplot:xlabel='Solar radiation'>"
      ]
     },
     "execution_count": 48,
     "metadata": {},
     "output_type": "execute_result"
    },
    {
     "data": {
      "image/png": "[encoded data removed]",
      "text/plain": [
       "<Figure size 432x288 with 1 Axes>"
      ]
     },
     "metadata": {
      "needs_background": "light"
     },
     "output_type": "display_data"
    }
   ],
   "source": [
    "sns.boxplot(x='Solar radiation',data=df)"
   ]
  },
  {
   "cell_type": "code",
   "execution_count": 49,
   "metadata": {},
   "outputs": [
    {
     "data": {
      "text/plain": [
       "<AxesSubplot:xlabel='Next_Tmax'>"
      ]
     },
     "execution_count": 49,
     "metadata": {},
     "output_type": "execute_result"
    },
    {
     "data": {
      "image/png": "[encoded data removed]",
      "text/plain": [
       "<Figure size 432x288 with 1 Axes>"
      ]
     },
     "metadata": {
      "needs_background": "light"
     },
     "output_type": "display_data"
    }
   ],
   "source": [
    "sns.boxplot(x='Next_Tmax',data=df)"
   ]
  },
  {
   "cell_type": "code",
   "execution_count": 50,
   "metadata": {},
   "outputs": [
    {
     "data": {
      "text/plain": [
       "<AxesSubplot:xlabel='Next_Tmin'>"
      ]
     },
     "execution_count": 50,
     "metadata": {},
     "output_type": "execute_result"
    },
    {
     "data": {
      "image/png": "[encoded data removed]",
      "text/plain": [
       "<Figure size 432x288 with 1 Axes>"
      ]
     },
     "metadata": {
      "needs_background": "light"
     },
     "output_type": "display_data"
    }
   ],
   "source": [
    "sns.boxplot(x='Next_Tmin',data=df)"
   ]
  },
  {
   "cell_type": "markdown",
   "metadata": {},
   "source": [
    "<h1>ML</h1>"
   ]
  },
  {
   "cell_type": "code",
   "execution_count": 51,
   "metadata": {},
   "outputs": [],
   "source": [
    "x=df.drop(['Next_Tmax','Next_Tmin'],axis=1)\n",
    "y=df['Next_Tmin']"
   ]
  },
  {
   "cell_type": "code",
   "execution_count": 52,
   "metadata": {},
   "outputs": [],
   "source": [
    "from sklearn.model_selection import train_test_split\n",
    "\n",
    "x_train, x_test, y_train, y_test = train_test_split(x, y, test_size=0.2)"
   ]
  },
  {
   "cell_type": "code",
   "execution_count": 53,
   "metadata": {},
   "outputs": [],
   "source": [
    "from sklearn.preprocessing import StandardScaler\n",
    "scaler= StandardScaler()\n",
    "\n",
    "scaler.fit(x_train)\n",
    "\n",
    "x_train = scaler.transform(x_train)\n",
    "x_test = scaler.transform(x_test)"
   ]
  },
  {
   "cell_type": "code",
   "execution_count": 54,
   "metadata": {},
   "outputs": [],
   "source": [
    "from sklearn.linear_model import LinearRegression\n",
    "from sklearn.neighbors import KNeighborsRegressor\n",
    "from sklearn.svm import SVR\n",
    "from sklearn.tree import DecisionTreeRegressor\n",
    "from sklearn.ensemble import RandomForestRegressor\n",
    "from xgboost import XGBRegressor"
   ]
  },
  {
   "cell_type": "code",
   "execution_count": 55,
   "metadata": {},
   "outputs": [],
   "source": [
    "models = {\n",
    "    \"LR\": LinearRegression(),\n",
    "    \"KNNR\" : KNeighborsRegressor(), \n",
    "    \"SVR\": SVR(),\n",
    "    \"DT\": DecisionTreeRegressor(),\n",
    "    \"RF\": RandomForestRegressor(),\n",
    "    \"XGBR\": XGBRegressor()\n",
    "}"
   ]
  },
  {
   "cell_type": "code",
   "execution_count": 56,
   "metadata": {},
   "outputs": [
    {
     "name": "stdout",
     "output_type": "stream",
     "text": [
      "Using model: LR\n",
      "Training Score: 0.7153232438495949\n",
      "Test Score: 0.7121773199220948\n",
      "------------------------------\n",
      "Using model: KNNR\n",
      "Training Score: 0.8573619402016555\n",
      "Test Score: 0.778522469275706\n",
      "------------------------------\n",
      "Using model: SVR\n",
      "Training Score: 0.8315634146654324\n",
      "Test Score: 0.8086551520835155\n",
      "------------------------------\n",
      "Using model: DT\n",
      "Training Score: 1.0\n",
      "Test Score: 0.6671062237730845\n",
      "------------------------------\n",
      "Using model: RF\n",
      "Training Score: 0.9767999497338778\n",
      "Test Score: 0.8496460758285895\n",
      "------------------------------\n",
      "Using model: XGBR\n",
      "Training Score: 0.9840557840106053\n",
      "Test Score: 0.8849665827724151\n",
      "------------------------------\n"
     ]
    }
   ],
   "source": [
    "for name, model in models.items():\n",
    "    print(f'Using model: {name}')\n",
    "    model.fit(x_train, y_train)\n",
    "    print(f'Training Score: {model.score(x_train, y_train)}')\n",
    "    print(f'Test Score: {model.score(x_test, y_test)}')  \n",
    "    print('-'*30)"
   ]
  },
  {
   "cell_type": "code",
   "execution_count": 57,
   "metadata": {},
   "outputs": [
    {
     "data": {
      "text/plain": [
       "XGBRegressor(base_score=0.5, booster='gbtree', colsample_bylevel=1,\n",
       "             colsample_bynode=1, colsample_bytree=1, gamma=0, gpu_id=-1,\n",
       "             importance_type='gain', interaction_constraints='',\n",
       "             learning_rate=0.300000012, max_delta_step=0, max_depth=6,\n",
       "             min_child_weight=1, missing=nan, monotone_constraints='()',\n",
       "             n_estimators=100, n_jobs=12, num_parallel_tree=1, random_state=0,\n",
       "             reg_alpha=0, reg_lambda=1, scale_pos_weight=1, subsample=1,\n",
       "             tree_method='exact', validate_parameters=1, verbosity=None)"
      ]
     },
     "execution_count": 57,
     "metadata": {},
     "output_type": "execute_result"
    }
   ],
   "source": [
    "model = XGBRegressor()\n",
    "\n",
    "model.fit(x_train, y_train)"
   ]
  },
  {
   "cell_type": "code",
   "execution_count": 58,
   "metadata": {},
   "outputs": [
    {
     "data": {
      "text/plain": [
       "array([25.194252, 21.237942, 19.961899, ..., 22.994188, 27.520123,\n",
       "       19.992582], dtype=float32)"
      ]
     },
     "execution_count": 58,
     "metadata": {},
     "output_type": "execute_result"
    }
   ],
   "source": [
    "y_pred = model.predict(x_test)\n",
    "y_pred"
   ]
  },
  {
   "cell_type": "code",
   "execution_count": 59,
   "metadata": {},
   "outputs": [
    {
     "data": {
      "text/plain": [
       "5308    25.8\n",
       "3055    21.2\n",
       "6068    18.8\n",
       "2030    25.3\n",
       "1597    21.9\n",
       "        ... \n",
       "14      22.8\n",
       "3564    20.6\n",
       "7402    23.4\n",
       "6022    27.3\n",
       "5068    19.9\n",
       "Name: Next_Tmin, Length: 1550, dtype: float64"
      ]
     },
     "execution_count": 59,
     "metadata": {},
     "output_type": "execute_result"
    }
   ],
   "source": [
    "y_test"
   ]
  },
  {
   "cell_type": "code",
   "execution_count": 60,
   "metadata": {},
   "outputs": [],
   "source": [
    "import joblib"
   ]
  },
  {
   "cell_type": "code",
   "execution_count": 61,
   "metadata": {},
   "outputs": [
    {
     "data": {
      "text/plain": [
       "['scalermin.h5']"
      ]
     },
     "execution_count": 61,
     "metadata": {},
     "output_type": "execute_result"
    }
   ],
   "source": [
    "joblib.dump(model, 'modelmin.h5')\n",
    "joblib.dump(scaler, 'scalermin.h5')"
   ]
  },
  {
   "cell_type": "code",
   "execution_count": 62,
   "metadata": {},
   "outputs": [],
   "source": [
    "x=df.drop(['Next_Tmax','Next_Tmin'],axis=1)\n",
    "y2=df['Next_Tmax']"
   ]
  },
  {
   "cell_type": "code",
   "execution_count": 63,
   "metadata": {},
   "outputs": [],
   "source": [
    "from sklearn.model_selection import train_test_split\n",
    "\n",
    "x2_train, x2_test, y2_train, y2_test = train_test_split(x, y2, test_size=0.2)"
   ]
  },
  {
   "cell_type": "code",
   "execution_count": 64,
   "metadata": {},
   "outputs": [],
   "source": [
    "from sklearn.preprocessing import StandardScaler\n",
    "scaler= StandardScaler()\n",
    "\n",
    "scaler.fit(x_train)\n",
    "\n",
    "x2_train = scaler.transform(x2_train)\n",
    "x2_test = scaler.transform(x2_test)"
   ]
  },
  {
   "cell_type": "code",
   "execution_count": 65,
   "metadata": {},
   "outputs": [
    {
     "name": "stdout",
     "output_type": "stream",
     "text": [
      "Using model: LR\n",
      "Training Score: 0.7242530631014417\n",
      "Test Score: 0.7034218562922461\n",
      "------------------------------\n",
      "Using model: KNNR\n",
      "Training Score: 0.6992275155321048\n",
      "Test Score: 0.5311927055151039\n",
      "------------------------------\n",
      "Using model: SVR\n",
      "Training Score: 0.04618392660911241\n",
      "Test Score: 0.04567849835987969\n",
      "------------------------------\n",
      "Using model: DT\n",
      "Training Score: 1.0\n",
      "Test Score: 0.7049670907502408\n",
      "------------------------------\n",
      "Using model: RF\n",
      "Training Score: 0.9813104250456225\n",
      "Test Score: 0.8624375960213918\n",
      "------------------------------\n",
      "Using model: XGBR\n",
      "Training Score: 0.9862695018280401\n",
      "Test Score: 0.8882027977544789\n",
      "------------------------------\n"
     ]
    }
   ],
   "source": [
    "for name, model in models.items():\n",
    "    print(f'Using model: {name}')\n",
    "    model.fit(x2_train, y2_train)\n",
    "    print(f'Training Score: {model.score(x2_train, y2_train)}')\n",
    "    print(f'Test Score: {model.score(x2_test, y2_test)}')  \n",
    "    print('-'*30)"
   ]
  },
  {
   "cell_type": "code",
   "execution_count": 66,
   "metadata": {},
   "outputs": [
    {
     "data": {
      "text/plain": [
       "XGBRegressor(base_score=0.5, booster='gbtree', colsample_bylevel=1,\n",
       "             colsample_bynode=1, colsample_bytree=1, gamma=0, gpu_id=-1,\n",
       "             importance_type='gain', interaction_constraints='',\n",
       "             learning_rate=0.300000012, max_delta_step=0, max_depth=6,\n",
       "             min_child_weight=1, missing=nan, monotone_constraints='()',\n",
       "             n_estimators=100, n_jobs=12, num_parallel_tree=1, random_state=0,\n",
       "             reg_alpha=0, reg_lambda=1, scale_pos_weight=1, subsample=1,\n",
       "             tree_method='exact', validate_parameters=1, verbosity=None)"
      ]
     },
     "execution_count": 66,
     "metadata": {},
     "output_type": "execute_result"
    }
   ],
   "source": [
    "model2 = XGBRegressor()\n",
    "\n",
    "model2.fit(x2_train, y2_train)"
   ]
  },
  {
   "cell_type": "code",
   "execution_count": 67,
   "metadata": {},
   "outputs": [
    {
     "data": {
      "text/plain": [
       "array([33.206024, 32.80709 , 24.567898, ..., 32.084827, 30.688488,\n",
       "       30.077158], dtype=float32)"
      ]
     },
     "execution_count": 67,
     "metadata": {},
     "output_type": "execute_result"
    }
   ],
   "source": [
    "y2_pred = model.predict(x2_test)\n",
    "y2_pred"
   ]
  },
  {
   "cell_type": "code",
   "execution_count": 68,
   "metadata": {},
   "outputs": [
    {
     "data": {
      "text/plain": [
       "4857    33.8\n",
       "1387    32.4\n",
       "2136    22.8\n",
       "2932    29.2\n",
       "4809    27.4\n",
       "        ... \n",
       "2747    25.6\n",
       "4112    32.9\n",
       "4883    32.9\n",
       "4583    30.1\n",
       "810     29.9\n",
       "Name: Next_Tmax, Length: 1550, dtype: float64"
      ]
     },
     "execution_count": 68,
     "metadata": {},
     "output_type": "execute_result"
    }
   ],
   "source": [
    "y2_test"
   ]
  },
  {
   "cell_type": "code",
   "execution_count": 69,
   "metadata": {},
   "outputs": [
    {
     "data": {
      "text/plain": [
       "['scalermax.h5']"
      ]
     },
     "execution_count": 69,
     "metadata": {},
     "output_type": "execute_result"
    }
   ],
   "source": [
    "joblib.dump(model, 'modelmax.h5')\n",
    "joblib.dump(model, 'scalermax.h5')"
   ]
  },
  {
   "cell_type": "code",
   "execution_count": 70,
   "metadata": {},
   "outputs": [
    {
     "data": {
      "text/plain": [
       "Index(['LDAPS_RHmin', 'LDAPS_RHmax', 'LDAPS_Tmax_lapse', 'LDAPS_Tmin_lapse',\n",
       "       'LDAPS_WS', 'LDAPS_LH', 'LDAPS_CC1', 'LDAPS_CC2', 'LDAPS_CC3',\n",
       "       'LDAPS_CC4', 'LDAPS_PPT1', 'LDAPS_PPT2', 'LDAPS_PPT3', 'LDAPS_PPT4',\n",
       "       'lat', 'lon', 'Solar radiation'],\n",
       "      dtype='object')"
      ]
     },
     "execution_count": 70,
     "metadata": {},
     "output_type": "execute_result"
    }
   ],
   "source": [
    "x.columns"
   ]
  }
 ],
 "metadata": {
  "kernelspec": {
   "display_name": "Python 3",
   "language": "python",
   "name": "python3"
  },
  "language_info": {
   "codemirror_mode": {
    "name": "ipython",
    "version": 3
   },
   "file_extension": ".py",
   "mimetype": "text/x-python",
   "name": "python",
   "nbconvert_exporter": "python",
   "pygments_lexer": "ipython3",
   "version": "3.8.5"
  }
 },
 "nbformat": 4,
 "nbformat_minor": 4
}
